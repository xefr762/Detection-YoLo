{
 "cells": [
  {
   "cell_type": "code",
   "execution_count": 1,
   "id": "6f340654-710f-4a2b-89a1-8deb56868007",
   "metadata": {},
   "outputs": [],
   "source": [
    "from ultralytics import YOLO\n",
    "\n",
    "import torch"
   ]
  },
  {
   "cell_type": "code",
   "execution_count": 2,
   "id": "520af378-8110-4008-8628-27e355fa3462",
   "metadata": {},
   "outputs": [
    {
     "data": {
      "text/plain": [
       "'cuda'"
      ]
     },
     "execution_count": 2,
     "metadata": {},
     "output_type": "execute_result"
    }
   ],
   "source": [
    "DEVICE = 'cuda' if torch.cuda.is_available() else 'cpu'\n",
    "DEVICE"
   ]
  },
  {
   "cell_type": "code",
   "execution_count": 3,
   "id": "7619ee8d-fb43-403f-b51f-2a4da3ff0e28",
   "metadata": {},
   "outputs": [],
   "source": [
    "model = YOLO('./best.pt')"
   ]
  },
  {
   "cell_type": "code",
   "execution_count": 5,
   "id": "bfa86ee9-65f4-41c5-8533-8300bb7f9f80",
   "metadata": {},
   "outputs": [
    {
     "name": "stdout",
     "output_type": "stream",
     "text": [
      "\n",
      "image 1/1 /mnt/WD/ds-phase-2/09-cv/runs/detect/train4/weights/test/3.jpg: 640x640 1 Ork, 14.4ms\n",
      "Speed: 1.7ms preprocess, 14.4ms inference, 113.5ms postprocess per image at shape (1, 3, 640, 640)\n"
     ]
    }
   ],
   "source": [
    "results = model.predict(\"./test/3.jpg\", conf=0.4)"
   ]
  },
  {
   "cell_type": "code",
   "execution_count": 7,
   "id": "39dbb66f-47cd-42fe-82ba-83b08d5f9bd3",
   "metadata": {},
   "outputs": [
    {
     "name": "stderr",
     "output_type": "stream",
     "text": [
      "\n",
      "(process:34616): Gtk-WARNING **: 14:38:25.303: Locale not supported by C library.\n",
      "\tUsing the fallback 'C' locale.\n",
      "** Message: 14:38:25.335: main.vala:507: Starting session with system profile\n"
     ]
    }
   ],
   "source": [
    "for result in results:\n",
    "    boxes = result.boxes  # bbox нужен для детекции\n",
    "    masks = result.masks  # Маска нужна для сегментации\n",
    "    keypoints = result.keypoints  # Для определения позы\n",
    "    probs = result.probs  # Для классификации найденного объекта\n",
    "    obb = result.obb  # Ориентированный bbox\n",
    "    result.show() "
   ]
  }
 ],
 "metadata": {
  "kernelspec": {
   "display_name": "Python 3 (ipykernel)",
   "language": "python",
   "name": "python3"
  },
  "language_info": {
   "codemirror_mode": {
    "name": "ipython",
    "version": 3
   },
   "file_extension": ".py",
   "mimetype": "text/x-python",
   "name": "python",
   "nbconvert_exporter": "python",
   "pygments_lexer": "ipython3",
   "version": "3.12.8"
  },
  "widgets": {
   "application/vnd.jupyter.widget-state+json": {
    "state": {},
    "version_major": 2,
    "version_minor": 0
   }
  }
 },
 "nbformat": 4,
 "nbformat_minor": 5
}
